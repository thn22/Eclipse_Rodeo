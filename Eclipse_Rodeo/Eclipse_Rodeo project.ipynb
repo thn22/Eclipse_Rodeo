{
 "cells": [
  {
   "cell_type": "code",
   "execution_count": null,
   "id": "acf77853",
   "metadata": {},
   "outputs": [],
   "source": [
    "import pandas as pd\n",
    "import matplotlib.pyplot as plt\n",
    "import numpy as np"
   ]
  },
  {
   "cell_type": "code",
   "execution_count": null,
   "id": "da5c8351",
   "metadata": {},
   "outputs": [],
   "source": [
    "base_url = \"http://www.omdbapi.com/?\"\n",
    "Netflix_df = \"\"\n",
    "hulu_df = \n",
    "hbo_df = \n"
   ]
  },
  {
   "cell_type": "code",
   "execution_count": null,
   "id": "96581dd8",
   "metadata": {},
   "outputs": [],
   "source": []
  }
 ],
 "metadata": {
  "kernelspec": {
   "display_name": "PythonData",
   "language": "python",
   "name": "pythondata"
  },
  "language_info": {
   "codemirror_mode": {
    "name": "ipython",
    "version": 3
   },
   "file_extension": ".py",
   "mimetype": "text/x-python",
   "name": "python",
   "nbconvert_exporter": "python",
   "pygments_lexer": "ipython3",
   "version": "3.7.7"
  }
 },
 "nbformat": 4,
 "nbformat_minor": 5
}
